{
 "cells": [
  {
   "cell_type": "code",
   "execution_count": 51,
   "id": "3f71eaa5-86b4-4138-905e-0ecc10112d6c",
   "metadata": {},
   "outputs": [],
   "source": [
    "%run '../catalog_common.ipynb'"
   ]
  },
  {
   "cell_type": "code",
   "execution_count": 52,
   "id": "31397c55",
   "metadata": {},
   "outputs": [],
   "source": [
    "#!pip3 install torchvision"
   ]
  },
  {
   "cell_type": "code",
   "execution_count": 53,
   "id": "d96b9bd3-0a65-4f14-8aa1-c27de677d353",
   "metadata": {},
   "outputs": [],
   "source": [
    "import os\n",
    "from torchvision import datasets, transforms\n",
    "from torch.utils.data import DataLoader\n",
    "import torch.nn as nn\n",
    "import torch.nn.functional as F\n",
    "import torch.optim as optim\n",
    "import torch\n",
    "import binascii\n",
    "from datetime import datetime"
   ]
  },
  {
   "cell_type": "code",
   "execution_count": 54,
   "id": "311b4949",
   "metadata": {},
   "outputs": [],
   "source": [
    "def search_onrl_models(catalog, name):\n",
    "    obj_list = list_onrl(catalog)\n",
    "    obj_list_2 = []\n",
    "    for item in obj_list:\n",
    "        if item[\"metadata\"] is not None:\n",
    "            obj_list_2.append(item)\n",
    "#     obj_list_2 = [item for item in obj_list if item[\"metadata\"] is not None]\n",
    "    item_list = [item for item in obj_list_2 if item[\"metadata\"][\"name\"].strip() == name.strip()]\n",
    "    if len(item_list):\n",
    "        match = item_list[0]\n",
    "        if match is not None: \n",
    "            print(\"Model found in the Catalog with the following metadata\")\n",
    "            print(match[\"metadata\"])\n",
    "            return True, match[\"_id\"], match[\"metadata\"]\n",
    "    return False, None, None\n",
    "\n",
    "def slac_list_onrl_models(obj_list):\n",
    "    mdata_list = []\n",
    "    for item in obj_list:\n",
    "        if item[\"metadata\"] is not None:\n",
    "            mdata_list.append(item[\"metadata\"])\n",
    "#     mdata_list =[item[\"metadata\"] for item in obj_list if item[\"metadata\"] is not None]\n",
    "    names=[item[\"name\"] for item in mdata_list]\n",
    "    return names\n",
    "\n",
    "def list_onrl(catalog): \n",
    "    onrl_scope = \"edu.onrl.slac_collab\"\n",
    "    onrl_type = \"model\"\n",
    "    text_entries = catalog.list_all()\n",
    "#     item_list = my_parse(text_entries)\n",
    "#     obj_list =[json.loads(item) for item in item_list]\n",
    "    obj_list = json.loads(text_entries)\n",
    "    return obj_list"
   ]
  },
  {
   "cell_type": "code",
   "execution_count": 55,
   "id": "b7b7b4dd-4325-451c-9864-12236fd89f8f",
   "metadata": {},
   "outputs": [],
   "source": [
    "base_dir = os.getcwd()\n",
    "data_dir = os.path.join(base_dir, 'onrl', 'data')\n",
    "temp_file = os.path.join(base_dir, 'onrl', 'temp.pt')\n",
    "batch_size=128\n",
    "learning_rate = 0.01\n",
    "momentum = 0.5\n",
    "device = \"cpu\""
   ]
  },
  {
   "cell_type": "code",
   "execution_count": 56,
   "id": "ba5f7e96-2efa-4f65-92a1-9c869c72b6d4",
   "metadata": {},
   "outputs": [],
   "source": [
    "class BasicModel(nn.Module):\n",
    "    def __init__(self):\n",
    "        super(BasicModel, self).__init__()\n",
    "        #input channel 1, output channel 10\n",
    "        self.conv1 = nn.Conv2d(1, 10, kernel_size=5, stride=1)\n",
    "        #input channel 10, output channel 20\n",
    "        self.conv2 = nn.Conv2d(10, 20, kernel_size=5, stride=1)\n",
    "        #dropout layer\n",
    "        self.conv2_drop = nn.Dropout2d()\n",
    "        #fully connected layer\n",
    "        self.fc1 = nn.Linear(320, 50)\n",
    "        self.fc2 = nn.Linear(50, 10)\n",
    "    def forward(self, x):\n",
    "        x = self.conv1(x)\n",
    "        x = F.max_pool2d(x, 2)\n",
    "        x = F.relu(x)\n",
    "        x = self.conv2(x)\n",
    "        x = self.conv2_drop(x)\n",
    "        x = F.max_pool2d(x, 2)\n",
    "        x = F.relu(x)\n",
    "        x = x.view(-1, 320)\n",
    "        x = self.fc1(x)\n",
    "        x = F.relu(x)\n",
    "        x = F.dropout(x)\n",
    "        x = self.fc2(x)\n",
    "        return F.log_softmax(x, dim=0)\n",
    "\n",
    "\n",
    "def get_training_model(device=\"cpu\"):\n",
    "    model = BasicModel().to(device)\n",
    "    return model \n",
    "    \n",
    "    \n",
    "def train_model(model, training_data, log_interval = 100):\n",
    "    train_loader = DataLoader(training_data, shuffle=True, batch_size=batch_size)\n",
    "    optimizer = optim.SGD(model.parameters(), lr=learning_rate, momentum=momentum)\n",
    "    model = model.to(device)\n",
    "    criterion = nn.CrossEntropyLoss()\n",
    "    model.train()\n",
    "\n",
    "    for batch_idx, (data, target) in enumerate(train_loader):\n",
    "        # print('data size =', data.shape)\n",
    "        data, target = data.to(device), target.to(device)\n",
    "        optimizer.zero_grad()\n",
    "        output = model(data)\n",
    "        loss = criterion(output, target)\n",
    "        loss.backward()\n",
    "        optimizer.step()\n",
    "        if batch_idx % log_interval == 0:\n",
    "            epoch=batch_idx // log_interval\n",
    "            print('Train Step: {} [{}/{} ({:.0f}%)]\\tLoss: {:.6f}'.format(\n",
    "                epoch, batch_idx * len(data), len(train_loader.dataset),\n",
    "                       100. * batch_idx / len(train_loader), loss.item()))\n",
    "\n",
    "\n",
    "            \n",
    "def get_serialized_model(model):\n",
    "    model_scripted = torch.jit.script(model)\n",
    "    model_scripted.save(temp_file)\n",
    "    return get_file_contents(temp_file)\n",
    "        "
   ]
  },
  {
   "cell_type": "code",
   "execution_count": null,
   "id": "1adef9ba",
   "metadata": {},
   "outputs": [],
   "source": []
  }
 ],
 "metadata": {
  "kernelspec": {
   "display_name": "Python 3 (ipykernel)",
   "language": "python",
   "name": "python3"
  },
  "language_info": {
   "codemirror_mode": {
    "name": "ipython",
    "version": 3
   },
   "file_extension": ".py",
   "mimetype": "text/x-python",
   "name": "python",
   "nbconvert_exporter": "python",
   "pygments_lexer": "ipython3",
   "version": "3.9.13"
  }
 },
 "nbformat": 4,
 "nbformat_minor": 5
}
