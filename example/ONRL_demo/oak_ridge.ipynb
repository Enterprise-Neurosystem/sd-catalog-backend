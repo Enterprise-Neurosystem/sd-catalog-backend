{
 "cells": [
  {
   "cell_type": "code",
   "execution_count": null,
   "id": "38e17151",
   "metadata": {},
   "outputs": [],
   "source": [
    "# In this demo, Oak Ridge has a set of training data while SLAC has testing data\n",
    "# Oak Ridge will train and publish data in the catalog. \n",
    "# SLAC will retrieve and run it on their test data"
   ]
  },
  {
   "cell_type": "code",
   "execution_count": null,
   "id": "e5d2be20",
   "metadata": {},
   "outputs": [],
   "source": [
    "%run 'onrl_setup.ipynb'"
   ]
  },
  {
   "cell_type": "code",
   "execution_count": null,
   "id": "bd10b22a",
   "metadata": {},
   "outputs": [],
   "source": [
    "catalog_url = \"http://127.0.0.1:5000/\"\n",
    "catalog = CatalogClient(catalog_url)\n",
    "\n",
    "training_data = get_mnist_dataset(train=True)\n",
    "oakridge_model = get_training_model(device=\"cpu\")\n",
    "train_model(oakridge_model, training_data)\n",
    "serialized_model = get_serialized_model(oakridge_model)\n"
   ]
  },
  {
   "cell_type": "code",
   "execution_count": null,
   "id": "21dcf741",
   "metadata": {},
   "outputs": [],
   "source": [
    "def publish_oakridge(model_name, model):\n",
    "    my_scope = \"edu.onrl.slac_collab\" # oakridge_domain\n",
    "    my_type = \"model\"\n",
    "    \n",
    "    isModelFound, record_id, metadata = search_onrl_models(catalog, model_name)\n",
    "    if isModelFound:\n",
    "        time_dict = {'date_updated': datetime.now().strftime('%Y-%m-%dT%H:%M:%S')}\n",
    "        metadata.update(time_dict)\n",
    "        return catalog.update_request(record_id, data_uri=None, scope=None, data_type=None, metadata=metadata, return_id=True)\n",
    "    metadata = {\"name\":model_name, \"date_created\": datetime.now().strftime('%Y-%m-%dT%H:%M:%S'), \n",
    "                \"date_updated\": datetime.now().strftime('%Y-%m-%dT%H:%M:%S')}\n",
    "    return catalog.create_request(data_uri=model, scope=my_scope, data_type=my_type,metadata= metadata, return_id=True)\n",
    "    "
   ]
  },
  {
   "cell_type": "code",
   "execution_count": null,
   "id": "afb0302e",
   "metadata": {},
   "outputs": [],
   "source": [
    "# Publish the trained model to the catalog \n",
    "MODEL_NAME=\"onrl_model_2_slac\"\n",
    "MODEL = serialized_model\n",
    "published_id = publish_oakridge(MODEL_NAME, MODEL) \n",
    "print(f\"Published model {MODEL_NAME} as {published_id}\") "
   ]
  },
  {
   "cell_type": "code",
   "execution_count": null,
   "id": "1a9f9d0a",
   "metadata": {
    "pycharm": {
     "name": "#%%\n"
    }
   },
   "outputs": [],
   "source": [
    "# catalog.delete_request(published_id)\n",
    "# catalog.purge()"
   ]
  },
  {
   "cell_type": "code",
   "execution_count": null,
   "id": "f5a0d2a7",
   "metadata": {},
   "outputs": [],
   "source": []
  }
 ],
 "metadata": {
  "kernelspec": {
   "display_name": "Python 3 (ipykernel)",
   "language": "python",
   "name": "python3"
  },
  "language_info": {
   "codemirror_mode": {
    "name": "ipython",
    "version": 3
   },
   "file_extension": ".py",
   "mimetype": "text/x-python",
   "name": "python",
   "nbconvert_exporter": "python",
   "pygments_lexer": "ipython3",
   "version": "3.9.13"
  }
 },
 "nbformat": 4,
 "nbformat_minor": 5
}