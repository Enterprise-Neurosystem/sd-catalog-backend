{
 "cells": [
  {
   "cell_type": "code",
   "execution_count": 15,
   "id": "49cdfab7-36ab-41c6-af12-21d3bb6e3fb0",
   "metadata": {},
   "outputs": [],
   "source": [
    "import os\n",
    "from torchvision import datasets, transforms\n",
    "from torch.utils.data import DataLoader\n",
    "import torch.nn as nn\n",
    "import torch.nn.functional as F\n",
    "import torch.optim as optim\n",
    "import torch\n",
    "import binascii"
   ]
  },
  {
   "cell_type": "code",
   "execution_count": 16,
   "id": "2e6656f2-2518-4809-8b3a-f543e0bf0631",
   "metadata": {},
   "outputs": [],
   "source": [
    "%run '../catalog_common.ipynb'"
   ]
  },
  {
   "cell_type": "code",
   "execution_count": 17,
   "id": "e3e2cc4c-ea31-4ed7-9eb4-4ba0bfbb4f24",
   "metadata": {},
   "outputs": [],
   "source": [
    "base_dir = os.getcwd()\n",
    "slac_dir = os.path.join(base_dir,'slac')\n",
    "data_dir = os.path.join(slac_dir, 'data')\n",
    "temp_file = os.path.join(slac_dir, 'temp.pt')\n",
    "\n",
    "if not os.path.exists(slac_dir):\n",
    "        os.mkdir(slac_dir)\n",
    "if not os.path.exists(data_dir):\n",
    "        os.mkdir(data_dir)\n",
    "\n",
    "\n",
    "batch_size=128"
   ]
  },
  {
   "cell_type": "code",
   "execution_count": 18,
   "id": "94d0e2f7-39fa-4326-a0f1-94683e7c9939",
   "metadata": {},
   "outputs": [],
   "source": [
    "def slac_list_onrl(catalog): \n",
    "    onrl_scope = \"edu.onrl.slac_collab\"\n",
    "    onrl_type = \"model\"\n",
    "    text_entries = catalog.list_all()\n",
    "#     item_list = my_parse(text_entries)\n",
    "#     obj_list = [json.loads(item) for item in item_list]\n",
    "    obj_list = json.loads(text_entries)\n",
    "    return obj_list\n",
    "\n",
    "\n",
    "def slac_list_onrl_models(obj_list):\n",
    "    mdata_list = []\n",
    "    for item in obj_list:\n",
    "        if item[\"metadata\"] is not None:\n",
    "            mdata_list.append(item[\"metadata\"])\n",
    "#     mdata_list =[item[\"metadata\"] for item in obj_list if item[\"metadata\"] is not None]\n",
    "    names=[item[\"name\"] for item in mdata_list]\n",
    "    return names\n",
    "\n",
    "\n",
    "def convert_2_model(encoded_str):\n",
    "    new_bin=binascii.unhexlify(encoded_str)\n",
    "    save_to_file(temp_file, new_bin)\n",
    "    model = torch.jit.load(temp_file)\n",
    "    model.eval()\n",
    "    return model\n",
    "\n",
    "\n",
    "def slac_search_onrl_models(catalog, name):\n",
    "    obj_list = slac_list_onrl(catalog)\n",
    "    obj_list_2 = [item for item in obj_list if item[\"metadata\"] is not None]\n",
    "    item_list = [item for item in obj_list_2 if item[\"metadata\"][\"name\"].strip() == name.strip()]\n",
    "    if len(item_list) > 0:\n",
    "        match = item_list[0]\n",
    "        if match is not None: \n",
    "            answer= match[\"data_uri\"]\n",
    "            return convert_2_model(answer)\n",
    "\n",
    "        \n",
    "def print_catalog_models(catalog):\n",
    "    obj_list = slac_list_onrl(catalog)\n",
    "    names = slac_list_onrl_models(obj_list)\n",
    "    print(\"Current Models in the Catalog\")\n",
    "    print(names)    "
   ]
  },
  {
   "cell_type": "code",
   "execution_count": 10,
   "id": "39e78f54-4dba-480f-90a3-4fff5b857ac8",
   "metadata": {},
   "outputs": [],
   "source": [
    "def test(model, device, test_data): \n",
    "    model = model.to(device)\n",
    "    test_loader=DataLoader(test_data,shuffle=False,batch_size=batch_size)\n",
    "    model.eval()\n",
    "    test_loss = 0\n",
    "    correct = 0\n",
    "    with torch.no_grad():\n",
    "        for data, target in test_loader:\n",
    "            data, target = data.to(device), target.to(device)\n",
    "            output = model(data)\n",
    "            test_loss += F.nll_loss(output, target, reduction='sum').item()  # sum up batch loss\n",
    "            pred = output.argmax(dim=1, keepdim=True)  # get the index of the max log-probability\n",
    "            correct += pred.eq(target.view_as(pred)).sum().item()\n",
    "\n",
    "    test_loss /= len(test_loader.dataset)\n",
    "\n",
    "    print('\\nTest set: Average loss: {:.4f}, Accuracy: {}/{} ({:.0f}%)\\n'.format(\n",
    "        test_loss, correct, len(test_loader.dataset),\n",
    "        100. * correct / len(test_loader.dataset)))"
   ]
  },
  {
   "cell_type": "code",
   "execution_count": null,
   "id": "182d8c33",
   "metadata": {},
   "outputs": [],
   "source": []
  }
 ],
 "metadata": {
  "kernelspec": {
   "display_name": "Python 3 (ipykernel)",
   "language": "python",
   "name": "python3"
  },
  "language_info": {
   "codemirror_mode": {
    "name": "ipython",
    "version": 3
   },
   "file_extension": ".py",
   "mimetype": "text/x-python",
   "name": "python",
   "nbconvert_exporter": "python",
   "pygments_lexer": "ipython3",
   "version": "3.9.13"
  }
 },
 "nbformat": 4,
 "nbformat_minor": 5
}
