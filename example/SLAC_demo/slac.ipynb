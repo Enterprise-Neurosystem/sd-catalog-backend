{
 "cells": [
  {
   "cell_type": "code",
   "execution_count": null,
   "id": "97b4ee49",
   "metadata": {},
   "outputs": [],
   "source": [
    "# In this demo, SLAC will try to list the model \n",
    "# The model will be empty first time and show an entry the other time\n",
    "# When the model entry shows up, SLAC will use the model to run it on the test data "
   ]
  },
  {
   "cell_type": "code",
   "execution_count": 14,
   "id": "025ea3dc",
   "metadata": {},
   "outputs": [],
   "source": [
    "%run 'slac_setup.ipynb'"
   ]
  },
  {
   "cell_type": "code",
   "execution_count": 15,
   "id": "d22f5bbd",
   "metadata": {},
   "outputs": [],
   "source": [
    "catalog_url = \"http://127.0.0.1:5000/\"\n",
    "catalog = CatalogClient(catalog_url)\n",
    "device=\"cpu\""
   ]
  },
  {
   "cell_type": "code",
   "execution_count": 16,
   "id": "16f206be",
   "metadata": {},
   "outputs": [
    {
     "name": "stdout",
     "output_type": "stream",
     "text": [
      "Current Models in the Catalog\n",
      "['onrl_model_2_slac']\n"
     ]
    }
   ],
   "source": [
    "print_catalog_models(catalog)"
   ]
  },
  {
   "cell_type": "code",
   "execution_count": 4,
   "id": "a6c04ecc-3d97-4cc8-8bbb-3f7d8dcb5dc0",
   "metadata": {},
   "outputs": [
    {
     "name": "stdout",
     "output_type": "stream",
     "text": [
      "\n",
      "Test set: Average loss: 3.6875, Accuracy: 7184/10000 (72%)\n",
      "\n"
     ]
    }
   ],
   "source": [
    "model = slac_search_onrl_models(catalog, \"onrl_model_2_slac\")\n",
    "if  model is not None:\n",
    "    test_data=get_mnist_dataset(train=False)\n",
    "    test(model, device, test_data)\n"
   ]
  },
  {
   "cell_type": "code",
   "execution_count": null,
   "id": "d2a873b4",
   "metadata": {},
   "outputs": [],
   "source": []
  }
 ],
 "metadata": {
  "kernelspec": {
   "display_name": "Python 3 (ipykernel)",
   "language": "python",
   "name": "python3"
  },
  "language_info": {
   "codemirror_mode": {
    "name": "ipython",
    "version": 3
   },
   "file_extension": ".py",
   "mimetype": "text/x-python",
   "name": "python",
   "nbconvert_exporter": "python",
   "pygments_lexer": "ipython3",
   "version": "3.9.13"
  }
 },
 "nbformat": 4,
 "nbformat_minor": 5
}
