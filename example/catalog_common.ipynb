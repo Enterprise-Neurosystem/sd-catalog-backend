{
 "cells": [
  {
   "cell_type": "code",
   "execution_count": null,
   "id": "6e383bc6",
   "metadata": {
    "pycharm": {
     "name": "#%%\n"
    }
   },
   "outputs": [],
   "source": [
    "import requests\n",
    "import json"
   ]
  },
  {
   "cell_type": "code",
   "execution_count": null,
   "id": "ba65a92e",
   "metadata": {
    "pycharm": {
     "name": "#%%\n"
    }
   },
   "outputs": [],
   "source": [
    "ID_KEY=\"_id\"\n",
    "CODE_KEY=\"code\"\n",
    "PAYLOAD_KEY=\"item\"\n",
    "QUERY_KEY=\"search\"\n",
    "\n",
    "class InvocationException(Exception):\n",
    "    def __init__(self, response):\n",
    "        self.response = response\n",
    "        super().__init__(f\"got response code {response.status_code} from remote side\")\n",
    "\n",
    "class CatalogClient: \n",
    "    def __init__(self, catalog_url):\n",
    "        self.url = catalog_url\n",
    "    \n",
    "    def invoke(self, request_type, payload_dict, path_variable):\n",
    "        this_url = self.url+'/sda/'+request_type\n",
    "        resp = None\n",
    "        if payload_dict is None:\n",
    "            if path_variable is None:\n",
    "                resp = requests.get(this_url)\n",
    "            elif request_type == 'retrieve':\n",
    "                resp = requests.get(this_url+'/{}'.format(path_variable))\n",
    "            else:\n",
    "                resp = requests.delete(this_url+'/{}'.format(path_variable))\n",
    "#             resp = requests.post(this_url)\n",
    "        else:\n",
    "            if request_type == 'update':\n",
    "               \n",
    "                resp = requests.put(this_url+'/{}'.format(path_variable), json=payload_dict)\n",
    "            else:\n",
    "                resp = requests.post(this_url, json=payload_dict)\n",
    "        if resp.status_code != 200:\n",
    "            raise InvocationException(resp)\n",
    "        return resp\n",
    "    \n",
    "\n",
    "    def create_request(self, data_uri, scope, data_type, metadata, return_id=True):\n",
    "        this_dict = dict()\n",
    "        this_dict[\"data_uri\"] = data_uri\n",
    "        this_dict[\"scope\"] = scope\n",
    "        if data_type is not None: \n",
    "            this_dict[\"data_type\"] = data_type\n",
    "        if metadata is not None: \n",
    "            this_dict[\"metadata\"] = metadata\n",
    "        req = self.invoke('create', this_dict, None)\n",
    "        if return_id: \n",
    "            ans_dict = json.loads(req.text)\n",
    "            return ans_dict.get(ID_KEY, None)\n",
    "        else:\n",
    "            return req.text\n",
    "    \n",
    "    def delete_request(self, identifier):\n",
    "        this_dict = {ID_KEY:identifier}\n",
    "        try:\n",
    "#             req = self.invoke('delete', None, this_dict)\n",
    "            req = self.invoke('delete', None, identifier)\n",
    "            return True\n",
    "        except InvocationException as e:\n",
    "            if e.response.status_code == 500:\n",
    "                return False\n",
    "            else:\n",
    "                raise e\n",
    "            \n",
    "    \n",
    "    def retrieve_request(self, identifier):\n",
    "#         this_dict = {ID_KEY:identifier}\n",
    "        try:\n",
    "#             req = self.invoke('retrieve', this_dict)\n",
    "            req = self.invoke('retrieve', None, identifier)\n",
    "            ans_dict = req.text\n",
    "            return req.text\n",
    "        except InvocationException as e:\n",
    "            if e.response.status_code == 500:\n",
    "                return None\n",
    "            else:\n",
    "                raise e\n",
    "    \n",
    "    def update_request(self, identifier, data_uri=None, scope=None, data_type=None, metadata=None, return_id=True):\n",
    "        if data_uri is None and scope is None and data_type is None and metadata is None:\n",
    "            return 'Nothing to update'\n",
    "        this_dict = dict()\n",
    "        if data_uri is not None: \n",
    "            this_dict[\"data_uri\"] = data_uri\n",
    "        if scope is not None: \n",
    "            this_dict[\"scope\"] = scope\n",
    "        if data_type is not None: \n",
    "            this_dict[\"data_type\"] = data_type\n",
    "        if metadata is not None: \n",
    "            this_dict[\"metadata\"] = metadata\n",
    "#         this_dict[ID_KEY] = identifier\n",
    "        try:\n",
    "#             req = self.invoke('update', this_dict)\n",
    "            req = self.invoke('update', this_dict, identifier)\n",
    "            if return_id: \n",
    "                ans_dict = json.loads(req.text)\n",
    "                return ans_dict.get(ID_KEY, None)\n",
    "            else:\n",
    "                return req.text\n",
    "#             return req.text\n",
    "        except InvocationException as e:\n",
    "            if e.response.status_code == 500:\n",
    "                return None\n",
    "            else:\n",
    "                raise e\n",
    "        \n",
    "    def list_all(self):\n",
    "        resp = self.invoke('list', None, None)\n",
    "        return resp.text\n",
    "    \n",
    "    def purge(self):\n",
    "        resp = self.invoke('purge', None, None)\n",
    "          "
   ]
  },
  {
   "cell_type": "code",
   "execution_count": null,
   "id": "0d0b25d0",
   "metadata": {
    "pycharm": {
     "name": "#%%\n"
    }
   },
   "outputs": [],
   "source": [
    "def my_parse(this_string):\n",
    "    this_list = list()\n",
    "    brack_counter=0\n",
    "    start_index=0\n",
    "    for index,char in enumerate(this_string[1:-1]):\n",
    "        if char=='{':\n",
    "            brack_counter=brack_counter+1\n",
    "        elif char=='}':\n",
    "            brack_counter=brack_counter-1\n",
    "            if brack_counter==0:\n",
    "                item=this_string[start_index+1:index+2]\n",
    "                this_list.append(item)\n",
    "                start_index=index+1\n",
    "    return this_list\n",
    "\n",
    "def find_match(obj_list, scope, data_type, name):\n",
    "    for obj in obj_list:\n",
    "        if obj[\"scope\"] == scope and obj[\"data_type\"]==data_type:\n",
    "            mdata = obj[\"metadata\"]\n",
    "            if mdata is not None and mdata[\"name\"] == name:\n",
    "                return obj\n",
    "        "
   ]
  },
  {
   "cell_type": "code",
   "execution_count": null,
   "id": "8ca7f5e8-de83-4783-b67e-f0c902fc6384",
   "metadata": {
    "pycharm": {
     "name": "#%%\n"
    }
   },
   "outputs": [],
   "source": [
    "def get_file_contents(filename):\n",
    "    f = open(filename, 'rb').read()\n",
    "    hex_encoded = binascii.hexlify(f).decode('utf-8')\n",
    "    return hex_encoded\n",
    "\n",
    "def save_to_file(filename, bin_string):\n",
    "    with open(filename, 'wb') as f:\n",
    "        f.write(bin_string)\n",
    "\n",
    "        \n",
    "def get_mnist_dataset(train=True):\n",
    "    dataset = datasets.MNIST(root=data_dir,\n",
    "                               train=train,\n",
    "                               download=True,\n",
    "                               transform=transforms.ToTensor())\n",
    "    return dataset\n",
    "\n"
   ]
  },
  {
   "cell_type": "code",
   "execution_count": null,
   "id": "6c208534",
   "metadata": {},
   "outputs": [],
   "source": []
  }
 ],
 "metadata": {
  "kernelspec": {
   "display_name": "Python 3 (ipykernel)",
   "language": "python",
   "name": "python3"
  },
  "language_info": {
   "codemirror_mode": {
    "name": "ipython",
    "version": 3
   },
   "file_extension": ".py",
   "mimetype": "text/x-python",
   "name": "python",
   "nbconvert_exporter": "python",
   "pygments_lexer": "ipython3",
   "version": "3.9.13"
  }
 },
 "nbformat": 4,
 "nbformat_minor": 5
}
